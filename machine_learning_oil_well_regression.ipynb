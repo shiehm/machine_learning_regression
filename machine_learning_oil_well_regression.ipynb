{
 "cells": [
  {
   "cell_type": "markdown",
   "metadata": {},
   "source": [
    "# Machine Learning in Business - Course Project"
   ]
  },
  {
   "cell_type": "markdown",
   "metadata": {},
   "source": [
    "**Project description**\n",
    "\n",
    "You work for the OilyGiant mining company. Your task is to find the best place for a new well.\n",
    "\n",
    "Steps to choose the location:\n",
    "- Collect the oil well parameters in the selected region: oil quality and volume of reserves;\n",
    "- Build a model for predicting the volume of reserves in the new wells;\n",
    "- Pick the oil wells with the highest estimated values;\n",
    "- Pick the region with the highest total profit for the selected oil wells.\n",
    "\n",
    "You have data on oil samples from three regions. Parameters of each oil well in the region are already known. Build a model that will help to pick the region with the highest profit margin. Analyze potential profit and risks using the Bootstrapping technique.\n",
    "\n",
    "\n",
    "**Project instructions**\n",
    "- Download and prepare the data. Explain the procedure.\n",
    "\n",
    "Train and test the model for each region:\n",
    "- 2.1. Split the data into a training set and validation set at a ratio of 75:25.\n",
    "- 2.2. Train the model and make predictions for the validation set.\n",
    "- 2.3. Save the predictions and correct answers for the validation set.\n",
    "- 2.4. Print the average volume of predicted reserves and model RMSE.\n",
    "- 2.5. Analyze the results.\n",
    "\n",
    "Prepare for profit calculation:\n",
    "- 3.1. Store all key values for calculations in separate variables.\n",
    "- 3.2. Calculate the volume of reserves sufficient for developing a new well without losses. Compare the obtained value with the average volume of reserves in each region.\n",
    "- 3.3. Provide the findings about the preparation for profit calculation step.\n",
    "\n",
    "Write a function to calculate profit from a set of selected oil wells and model predictions:\n",
    "- 4.1. Pick the wells with the highest values of predictions.\n",
    "- 4.2. Summarize the target volume of reserves in accordance with these predictions\n",
    "- 4.3. Provide findings: suggest a region for oil wells' development and justify the choice. Calculate the profit for the obtained volume of reserves.\n",
    "\n",
    "Calculate risks and profit for each region:\n",
    "- 5.1. Use the bootstrapping technique with 1000 samples to find the distribution of profit.\n",
    "- 5.2. Find average profit, 95% confidence interval and risk of losses. Loss is negative profit, calculate it as a probability and then express as a percentage.\n",
    "- 5.3. Provide findings: suggest a region for development of oil wells and justify the choice.\n",
    "\n",
    "\n",
    "**Data description**\n",
    "\n",
    "Geological exploration data for the three regions are stored in files:\n",
    "- geo_data_0.csv\n",
    "- geo_data_1.csv\n",
    "- geo_data_2.csv\n",
    "\n",
    "- id — unique oil well identifier\n",
    "- f0, f1, f2 — three features of points (their specific meaning is unimportant, but the features themselves are significant)\n",
    "- product — volume of reserves in the oil well (thousand barrels).\n",
    "\n",
    "\n",
    "**Conditions:**\n",
    "- Only linear regression is suitable for model training (the rest are not sufficiently predictable).\n",
    "- When exploring the region, a study of 500 points is carried with picking the best 200 points for the profit calculation.\n",
    "- The budget for development of 200 oil wells is 100 USD million.\n",
    "- One barrel of raw materials brings 4.5 USD of revenue. The revenue from one unit of product is 4,500 dollars (volume of reserves is in thousand barrels).\n",
    "- After the risk evaluation, keep only the regions with the risk of losses lower than 2.5%. From the ones that fit the criteria, the region with the highest average profit should be selected.\n",
    "- The data is synthetic: contract details and well characteristics are not disclosed.\n",
    "\n",
    "\n",
    "**Project evaluation**\n",
    "- How did you prepare the data for training?\n",
    "- Have you followed all the steps of the instructions?\n",
    "- Have you taken into account all the business conditions?\n",
    "- What are your findings about the task study?\n",
    "- Have you applied the Bootstrapping technique correctly?\n",
    "- Have you suggested the best region for well development? Is the choice justified?\n",
    "- Did you avoid code duplication?\n",
    "- Have you kept to the project structure and kept the code neat?"
   ]
  },
  {
   "cell_type": "code",
   "execution_count": 1,
   "metadata": {},
   "outputs": [],
   "source": [
    "# Import modules \n",
    "import pandas as pd\n",
    "import numpy as np\n",
    "import matplotlib.pyplot as plt \n",
    "import scipy.stats as st\n",
    "\n",
    "# Preprocessing modules\n",
    "from sklearn.preprocessing import LabelEncoder\n",
    "from sklearn.preprocessing import StandardScaler\n",
    "from sklearn.model_selection import train_test_split\n",
    "from sklearn.utils import shuffle\n",
    "from sklearn.model_selection import GridSearchCV\n",
    "\n",
    "# Regression models\n",
    "from sklearn.linear_model import LinearRegression\n",
    "from sklearn.tree import DecisionTreeRegressor\n",
    "from sklearn.ensemble import RandomForestRegressor\n",
    "\n",
    "# Evaluation modules\n",
    "from sklearn.model_selection import cross_val_score\n",
    "from sklearn.metrics import r2_score\n",
    "from sklearn.metrics import mean_absolute_error\n",
    "from sklearn.metrics import mean_squared_error\n",
    "\n",
    "# The constant model should be picked in the manner that allows you to obtain the lowest possible MAE metric value. We need to find the value a, at which the minimum is reached:\n",
    "# The minimum is reached when a is equal to the target median."
   ]
  },
  {
   "cell_type": "code",
   "execution_count": 2,
   "metadata": {},
   "outputs": [],
   "source": [
    "# Load data\n",
    "df0 = pd.read_csv('/datasets/geo_data_0.csv')\n",
    "df1 = pd.read_csv('/datasets/geo_data_1.csv')\n",
    "df2 = pd.read_csv('/datasets/geo_data_2.csv')"
   ]
  },
  {
   "cell_type": "markdown",
   "metadata": {},
   "source": [
    "### EDA"
   ]
  },
  {
   "cell_type": "code",
   "execution_count": 3,
   "metadata": {},
   "outputs": [
    {
     "name": "stdout",
     "output_type": "stream",
     "text": [
      "<class 'pandas.core.frame.DataFrame'>\n",
      "RangeIndex: 100000 entries, 0 to 99999\n",
      "Data columns (total 5 columns):\n",
      " #   Column   Non-Null Count   Dtype  \n",
      "---  ------   --------------   -----  \n",
      " 0   id       100000 non-null  object \n",
      " 1   f0       100000 non-null  float64\n",
      " 2   f1       100000 non-null  float64\n",
      " 3   f2       100000 non-null  float64\n",
      " 4   product  100000 non-null  float64\n",
      "dtypes: float64(4), object(1)\n",
      "memory usage: 3.8+ MB\n"
     ]
    }
   ],
   "source": [
    "df0.info()"
   ]
  },
  {
   "cell_type": "code",
   "execution_count": 4,
   "metadata": {},
   "outputs": [
    {
     "name": "stdout",
     "output_type": "stream",
     "text": [
      "<class 'pandas.core.frame.DataFrame'>\n",
      "RangeIndex: 100000 entries, 0 to 99999\n",
      "Data columns (total 5 columns):\n",
      " #   Column   Non-Null Count   Dtype  \n",
      "---  ------   --------------   -----  \n",
      " 0   id       100000 non-null  object \n",
      " 1   f0       100000 non-null  float64\n",
      " 2   f1       100000 non-null  float64\n",
      " 3   f2       100000 non-null  float64\n",
      " 4   product  100000 non-null  float64\n",
      "dtypes: float64(4), object(1)\n",
      "memory usage: 3.8+ MB\n"
     ]
    }
   ],
   "source": [
    "df1.info()"
   ]
  },
  {
   "cell_type": "code",
   "execution_count": 5,
   "metadata": {},
   "outputs": [
    {
     "name": "stdout",
     "output_type": "stream",
     "text": [
      "<class 'pandas.core.frame.DataFrame'>\n",
      "RangeIndex: 100000 entries, 0 to 99999\n",
      "Data columns (total 5 columns):\n",
      " #   Column   Non-Null Count   Dtype  \n",
      "---  ------   --------------   -----  \n",
      " 0   id       100000 non-null  object \n",
      " 1   f0       100000 non-null  float64\n",
      " 2   f1       100000 non-null  float64\n",
      " 3   f2       100000 non-null  float64\n",
      " 4   product  100000 non-null  float64\n",
      "dtypes: float64(4), object(1)\n",
      "memory usage: 3.8+ MB\n"
     ]
    }
   ],
   "source": [
    "df2.info()"
   ]
  },
  {
   "cell_type": "code",
   "execution_count": 6,
   "metadata": {},
   "outputs": [
    {
     "data": {
      "text/html": [
       "<div>\n",
       "<style scoped>\n",
       "    .dataframe tbody tr th:only-of-type {\n",
       "        vertical-align: middle;\n",
       "    }\n",
       "\n",
       "    .dataframe tbody tr th {\n",
       "        vertical-align: top;\n",
       "    }\n",
       "\n",
       "    .dataframe thead th {\n",
       "        text-align: right;\n",
       "    }\n",
       "</style>\n",
       "<table border=\"1\" class=\"dataframe\">\n",
       "  <thead>\n",
       "    <tr style=\"text-align: right;\">\n",
       "      <th></th>\n",
       "      <th>f0</th>\n",
       "      <th>f1</th>\n",
       "      <th>f2</th>\n",
       "      <th>product</th>\n",
       "    </tr>\n",
       "  </thead>\n",
       "  <tbody>\n",
       "    <tr>\n",
       "      <th>count</th>\n",
       "      <td>100000.000000</td>\n",
       "      <td>100000.000000</td>\n",
       "      <td>100000.000000</td>\n",
       "      <td>100000.000000</td>\n",
       "    </tr>\n",
       "    <tr>\n",
       "      <th>mean</th>\n",
       "      <td>0.500419</td>\n",
       "      <td>0.250143</td>\n",
       "      <td>2.502647</td>\n",
       "      <td>92.500000</td>\n",
       "    </tr>\n",
       "    <tr>\n",
       "      <th>std</th>\n",
       "      <td>0.871832</td>\n",
       "      <td>0.504433</td>\n",
       "      <td>3.248248</td>\n",
       "      <td>44.288691</td>\n",
       "    </tr>\n",
       "    <tr>\n",
       "      <th>min</th>\n",
       "      <td>-1.408605</td>\n",
       "      <td>-0.848218</td>\n",
       "      <td>-12.088328</td>\n",
       "      <td>0.000000</td>\n",
       "    </tr>\n",
       "    <tr>\n",
       "      <th>25%</th>\n",
       "      <td>-0.072580</td>\n",
       "      <td>-0.200881</td>\n",
       "      <td>0.287748</td>\n",
       "      <td>56.497507</td>\n",
       "    </tr>\n",
       "    <tr>\n",
       "      <th>50%</th>\n",
       "      <td>0.502360</td>\n",
       "      <td>0.250252</td>\n",
       "      <td>2.515969</td>\n",
       "      <td>91.849972</td>\n",
       "    </tr>\n",
       "    <tr>\n",
       "      <th>75%</th>\n",
       "      <td>1.073581</td>\n",
       "      <td>0.700646</td>\n",
       "      <td>4.715088</td>\n",
       "      <td>128.564089</td>\n",
       "    </tr>\n",
       "    <tr>\n",
       "      <th>max</th>\n",
       "      <td>2.362331</td>\n",
       "      <td>1.343769</td>\n",
       "      <td>16.003790</td>\n",
       "      <td>185.364347</td>\n",
       "    </tr>\n",
       "  </tbody>\n",
       "</table>\n",
       "</div>"
      ],
      "text/plain": [
       "                  f0             f1             f2        product\n",
       "count  100000.000000  100000.000000  100000.000000  100000.000000\n",
       "mean        0.500419       0.250143       2.502647      92.500000\n",
       "std         0.871832       0.504433       3.248248      44.288691\n",
       "min        -1.408605      -0.848218     -12.088328       0.000000\n",
       "25%        -0.072580      -0.200881       0.287748      56.497507\n",
       "50%         0.502360       0.250252       2.515969      91.849972\n",
       "75%         1.073581       0.700646       4.715088     128.564089\n",
       "max         2.362331       1.343769      16.003790     185.364347"
      ]
     },
     "execution_count": 6,
     "metadata": {},
     "output_type": "execute_result"
    }
   ],
   "source": [
    "df0.describe()"
   ]
  },
  {
   "cell_type": "code",
   "execution_count": 7,
   "metadata": {},
   "outputs": [
    {
     "data": {
      "text/html": [
       "<div>\n",
       "<style scoped>\n",
       "    .dataframe tbody tr th:only-of-type {\n",
       "        vertical-align: middle;\n",
       "    }\n",
       "\n",
       "    .dataframe tbody tr th {\n",
       "        vertical-align: top;\n",
       "    }\n",
       "\n",
       "    .dataframe thead th {\n",
       "        text-align: right;\n",
       "    }\n",
       "</style>\n",
       "<table border=\"1\" class=\"dataframe\">\n",
       "  <thead>\n",
       "    <tr style=\"text-align: right;\">\n",
       "      <th></th>\n",
       "      <th>f0</th>\n",
       "      <th>f1</th>\n",
       "      <th>f2</th>\n",
       "      <th>product</th>\n",
       "    </tr>\n",
       "  </thead>\n",
       "  <tbody>\n",
       "    <tr>\n",
       "      <th>count</th>\n",
       "      <td>100000.000000</td>\n",
       "      <td>100000.000000</td>\n",
       "      <td>100000.000000</td>\n",
       "      <td>100000.000000</td>\n",
       "    </tr>\n",
       "    <tr>\n",
       "      <th>mean</th>\n",
       "      <td>1.141296</td>\n",
       "      <td>-4.796579</td>\n",
       "      <td>2.494541</td>\n",
       "      <td>68.825000</td>\n",
       "    </tr>\n",
       "    <tr>\n",
       "      <th>std</th>\n",
       "      <td>8.965932</td>\n",
       "      <td>5.119872</td>\n",
       "      <td>1.703572</td>\n",
       "      <td>45.944423</td>\n",
       "    </tr>\n",
       "    <tr>\n",
       "      <th>min</th>\n",
       "      <td>-31.609576</td>\n",
       "      <td>-26.358598</td>\n",
       "      <td>-0.018144</td>\n",
       "      <td>0.000000</td>\n",
       "    </tr>\n",
       "    <tr>\n",
       "      <th>25%</th>\n",
       "      <td>-6.298551</td>\n",
       "      <td>-8.267985</td>\n",
       "      <td>1.000021</td>\n",
       "      <td>26.953261</td>\n",
       "    </tr>\n",
       "    <tr>\n",
       "      <th>50%</th>\n",
       "      <td>1.153055</td>\n",
       "      <td>-4.813172</td>\n",
       "      <td>2.011479</td>\n",
       "      <td>57.085625</td>\n",
       "    </tr>\n",
       "    <tr>\n",
       "      <th>75%</th>\n",
       "      <td>8.621015</td>\n",
       "      <td>-1.332816</td>\n",
       "      <td>3.999904</td>\n",
       "      <td>107.813044</td>\n",
       "    </tr>\n",
       "    <tr>\n",
       "      <th>max</th>\n",
       "      <td>29.421755</td>\n",
       "      <td>18.734063</td>\n",
       "      <td>5.019721</td>\n",
       "      <td>137.945408</td>\n",
       "    </tr>\n",
       "  </tbody>\n",
       "</table>\n",
       "</div>"
      ],
      "text/plain": [
       "                  f0             f1             f2        product\n",
       "count  100000.000000  100000.000000  100000.000000  100000.000000\n",
       "mean        1.141296      -4.796579       2.494541      68.825000\n",
       "std         8.965932       5.119872       1.703572      45.944423\n",
       "min       -31.609576     -26.358598      -0.018144       0.000000\n",
       "25%        -6.298551      -8.267985       1.000021      26.953261\n",
       "50%         1.153055      -4.813172       2.011479      57.085625\n",
       "75%         8.621015      -1.332816       3.999904     107.813044\n",
       "max        29.421755      18.734063       5.019721     137.945408"
      ]
     },
     "execution_count": 7,
     "metadata": {},
     "output_type": "execute_result"
    }
   ],
   "source": [
    "df1.describe()"
   ]
  },
  {
   "cell_type": "code",
   "execution_count": 8,
   "metadata": {},
   "outputs": [
    {
     "data": {
      "text/html": [
       "<div>\n",
       "<style scoped>\n",
       "    .dataframe tbody tr th:only-of-type {\n",
       "        vertical-align: middle;\n",
       "    }\n",
       "\n",
       "    .dataframe tbody tr th {\n",
       "        vertical-align: top;\n",
       "    }\n",
       "\n",
       "    .dataframe thead th {\n",
       "        text-align: right;\n",
       "    }\n",
       "</style>\n",
       "<table border=\"1\" class=\"dataframe\">\n",
       "  <thead>\n",
       "    <tr style=\"text-align: right;\">\n",
       "      <th></th>\n",
       "      <th>f0</th>\n",
       "      <th>f1</th>\n",
       "      <th>f2</th>\n",
       "      <th>product</th>\n",
       "    </tr>\n",
       "  </thead>\n",
       "  <tbody>\n",
       "    <tr>\n",
       "      <th>count</th>\n",
       "      <td>100000.000000</td>\n",
       "      <td>100000.000000</td>\n",
       "      <td>100000.000000</td>\n",
       "      <td>100000.000000</td>\n",
       "    </tr>\n",
       "    <tr>\n",
       "      <th>mean</th>\n",
       "      <td>0.002023</td>\n",
       "      <td>-0.002081</td>\n",
       "      <td>2.495128</td>\n",
       "      <td>95.000000</td>\n",
       "    </tr>\n",
       "    <tr>\n",
       "      <th>std</th>\n",
       "      <td>1.732045</td>\n",
       "      <td>1.730417</td>\n",
       "      <td>3.473445</td>\n",
       "      <td>44.749921</td>\n",
       "    </tr>\n",
       "    <tr>\n",
       "      <th>min</th>\n",
       "      <td>-8.760004</td>\n",
       "      <td>-7.084020</td>\n",
       "      <td>-11.970335</td>\n",
       "      <td>0.000000</td>\n",
       "    </tr>\n",
       "    <tr>\n",
       "      <th>25%</th>\n",
       "      <td>-1.162288</td>\n",
       "      <td>-1.174820</td>\n",
       "      <td>0.130359</td>\n",
       "      <td>59.450441</td>\n",
       "    </tr>\n",
       "    <tr>\n",
       "      <th>50%</th>\n",
       "      <td>0.009424</td>\n",
       "      <td>-0.009482</td>\n",
       "      <td>2.484236</td>\n",
       "      <td>94.925613</td>\n",
       "    </tr>\n",
       "    <tr>\n",
       "      <th>75%</th>\n",
       "      <td>1.158535</td>\n",
       "      <td>1.163678</td>\n",
       "      <td>4.858794</td>\n",
       "      <td>130.595027</td>\n",
       "    </tr>\n",
       "    <tr>\n",
       "      <th>max</th>\n",
       "      <td>7.238262</td>\n",
       "      <td>7.844801</td>\n",
       "      <td>16.739402</td>\n",
       "      <td>190.029838</td>\n",
       "    </tr>\n",
       "  </tbody>\n",
       "</table>\n",
       "</div>"
      ],
      "text/plain": [
       "                  f0             f1             f2        product\n",
       "count  100000.000000  100000.000000  100000.000000  100000.000000\n",
       "mean        0.002023      -0.002081       2.495128      95.000000\n",
       "std         1.732045       1.730417       3.473445      44.749921\n",
       "min        -8.760004      -7.084020     -11.970335       0.000000\n",
       "25%        -1.162288      -1.174820       0.130359      59.450441\n",
       "50%         0.009424      -0.009482       2.484236      94.925613\n",
       "75%         1.158535       1.163678       4.858794     130.595027\n",
       "max         7.238262       7.844801      16.739402     190.029838"
      ]
     },
     "execution_count": 8,
     "metadata": {},
     "output_type": "execute_result"
    }
   ],
   "source": [
    "df2.describe()"
   ]
  },
  {
   "cell_type": "code",
   "execution_count": 9,
   "metadata": {},
   "outputs": [
    {
     "data": {
      "image/png": "[encoded data removed]",
      "text/plain": [
       "<Figure size 1080x360 with 1 Axes>"
      ]
     },
     "metadata": {
      "needs_background": "light"
     },
     "output_type": "display_data"
    },
    {
     "data": {
      "image/png": "[encoded data removed]",
      "text/plain": [
       "<Figure size 1080x360 with 1 Axes>"
      ]
     },
     "metadata": {
      "needs_background": "light"
     },
     "output_type": "display_data"
    },
    {
     "data": {
      "image/png": "[encoded data removed]",
      "text/plain": [
       "<Figure size 1080x360 with 1 Axes>"
      ]
     },
     "metadata": {
      "needs_background": "light"
     },
     "output_type": "display_data"
    },
    {
     "data": {
      "image/png": "[encoded data removed]",
      "text/plain": [
       "<Figure size 1080x360 with 1 Axes>"
      ]
     },
     "metadata": {
      "needs_background": "light"
     },
     "output_type": "display_data"
    }
   ],
   "source": [
    "# Plot the distribution of features and product across the 3 regions: \n",
    "#     Looks like they all have incredibly different distributionsb\n",
    "\n",
    "items = df0.drop('id', axis=1).columns.tolist()\n",
    "\n",
    "for i in items:\n",
    "    df0[i].plot(kind='hist', color='r', alpha=0.8, bins=30, figsize=[15,5])\n",
    "    df1[i].plot(kind='hist', color='b', alpha=0.6, bins=30, figsize=[15,5])\n",
    "    df2[i].plot(kind='hist', color='g', alpha=0.4, bins=30, figsize=[15,5])\n",
    "    plt.title(f'{i} Distribution')\n",
    "    plt.show()"
   ]
  },
  {
   "cell_type": "markdown",
   "metadata": {},
   "source": [
    "**EDA Observations:**\n",
    "- Looks like the data doesn't have nulls and is in the right format\n",
    "- The features (f1-3) and target (product) columns are correctly numeric in float format\n",
    "- The distributions of the columns vary for each region, as can be seen in the charts and describe tables\n",
    "    - Region 0 (red) and 2 (green) have tighter distributions for f1 and f2 versus Region 1 (blue)\n",
    "    - For f2, region 0 and 2 are nearly the same but region 1 is very different\n",
    "    - Likewise for product, regions 0 and 2 are similar and region 1 is different \n",
    "    - Needless to say, region 1 is visibly unique, so may likely be the best or worst region"
   ]
  },
  {
   "cell_type": "markdown",
   "metadata": {},
   "source": [
    "### Model Training\n",
    "\n",
    "Train and test the model for each region:\n",
    "- 2.1. Split the data into a training set and validation set at a ratio of 75:25.\n",
    "- 2.2. Train the model and make predictions for the validation set.\n",
    "- 2.3. Save the predictions and correct answers for the validation set.\n",
    "- 2.4. Print the average volume of predicted reserves and model RMSE.\n",
    "- 2.5. Analyze the results."
   ]
  },
  {
   "cell_type": "code",
   "execution_count": 10,
   "metadata": {},
   "outputs": [],
   "source": [
    "# Splitting the data here into training, validation and test sets, with a 75:25 ratio for training:validation\n",
    "\n",
    "random_state=123\n",
    "\n",
    "def train_valid_test_split(df):\n",
    "    X = df.drop(['id', 'product'], axis=1)\n",
    "    y = df['product']\n",
    "    X_train, X_rest, y_train, y_rest = train_test_split(X, y, test_size=0.4, random_state=random_state)\n",
    "    X_valid, X_test, y_valid, y_test = train_test_split(X, y, test_size=0.5, random_state=random_state)\n",
    "    return X, y, X_train, y_train, X_valid, y_valid, X_test, y_test"
   ]
  },
  {
   "cell_type": "code",
   "execution_count": 11,
   "metadata": {},
   "outputs": [],
   "source": [
    "# Setting the variables for each region\n",
    "\n",
    "X0, y0, X0_train, y0_train, X0_valid, y0_valid, X0_test, y0_test = train_valid_test_split(df0)\n",
    "X1, y1, X1_train, y1_train, X1_valid, y1_valid, X1_test, y1_test = train_valid_test_split(df1)\n",
    "X2, y2, X2_train, y2_train, X2_valid, y2_valid, X2_test, y2_test = train_valid_test_split(df2)"
   ]
  },
  {
   "cell_type": "code",
   "execution_count": 12,
   "metadata": {},
   "outputs": [],
   "source": [
    "# Function to gather result metrics\n",
    "\n",
    "def average_comp(target):\n",
    "    mean_prediction = pd.Series(target.mean(), index=target.index)\n",
    "    mean_mse = mean_squared_error(target, mean_prediction)\n",
    "    mean_rmse = mean_mse**0.5\n",
    "    return mean_prediction, mean_mse, mean_rmse"
   ]
  },
  {
   "cell_type": "code",
   "execution_count": 13,
   "metadata": {},
   "outputs": [],
   "source": [
    "# Function to print the result metrics\n",
    "\n",
    "def print_results(model_rmse, mean_rmse, model_mse, mean_mse):\n",
    "    print('Linear Regression RMSE:', model_rmse)\n",
    "    print('Target Average RMSE:', mean_rmse)\n",
    "    print('RMSE Ratio:', model_rmse / mean_rmse)\n",
    "    print()\n",
    "    print('Linear Regression MSE:', model_mse)\n",
    "    print('Target Average MSE:', mean_mse)\n",
    "    print('MSE Ratio:', model_mse / mean_mse)"
   ]
  },
  {
   "cell_type": "markdown",
   "metadata": {},
   "source": [
    "#### Linear Regression"
   ]
  },
  {
   "cell_type": "code",
   "execution_count": 14,
   "metadata": {},
   "outputs": [
    {
     "name": "stdout",
     "output_type": "stream",
     "text": [
      "Linear Regression RMSE: 37.71837356606692\n",
      "Target Average RMSE: 44.2884696928441\n",
      "RMSE Ratio: 0.8516522207169704\n",
      "\n",
      "Linear Regression MSE: 1422.675704469376\n",
      "Target Average MSE: 1961.4685477339704\n",
      "MSE Ratio: 0.7253115050521474\n",
      "\n",
      "Average Predicted Reserves: 92.38669193122716\n"
     ]
    }
   ],
   "source": [
    "# For region 0\n",
    "\n",
    "model0 = LinearRegression()\n",
    "model0.fit(X0_train, y0_train)\n",
    "\n",
    "model0_predictions = model0.predict(X0_valid)\n",
    "model0_mse = mean_squared_error(y0_valid, model0_predictions)\n",
    "model0_rmse = model0_mse**0.5\n",
    "\n",
    "mean0_prediction, mean0_mse, mean0_rmse = average_comp(y0)\n",
    "print_results(model0_rmse, mean0_rmse, model0_mse, mean0_mse)\n",
    "print()\n",
    "print('Average Predicted Reserves:', model0_predictions.mean())"
   ]
  },
  {
   "cell_type": "code",
   "execution_count": 15,
   "metadata": {},
   "outputs": [
    {
     "name": "stdout",
     "output_type": "stream",
     "text": [
      "Linear Regression RMSE: 0.8874401591431833\n",
      "Target Average RMSE: 45.94419317228633\n",
      "RMSE Ratio: 0.019315610915515865\n",
      "\n",
      "Linear Regression MSE: 0.7875500360600786\n",
      "Target Average MSE: 2110.8688862523622\n",
      "MSE Ratio: 0.00037309282503959556\n",
      "\n",
      "Average Predicted Reserves: 68.74283956317032\n"
     ]
    }
   ],
   "source": [
    "# For region 1\n",
    "\n",
    "model1 = LinearRegression()\n",
    "model1.fit(X1_train, y1_train)\n",
    "\n",
    "model1_predictions = model1.predict(X1_valid)\n",
    "model1_mse = mean_squared_error(y1_valid, model1_predictions)\n",
    "model1_rmse = model1_mse**0.5\n",
    "\n",
    "mean1_prediction, mean1_mse, mean1_rmse = average_comp(y1)\n",
    "print_results(model1_rmse, mean1_rmse, model1_mse, mean1_mse)\n",
    "print()\n",
    "print('Average Predicted Reserves:', model1_predictions.mean())"
   ]
  },
  {
   "cell_type": "code",
   "execution_count": 16,
   "metadata": {
    "scrolled": true
   },
   "outputs": [
    {
     "name": "stdout",
     "output_type": "stream",
     "text": [
      "Linear Regression RMSE: 39.99052181837719\n",
      "Target Average RMSE: 44.74969731878746\n",
      "RMSE Ratio: 0.8936489901483153\n",
      "\n",
      "Linear Regression MSE: 1599.2418353061018\n",
      "Target Average MSE: 2002.5354101230935\n",
      "MSE Ratio: 0.7986085175931038\n",
      "\n",
      "Average Predicted Reserves: 95.10108456738934\n"
     ]
    }
   ],
   "source": [
    "# For region 2\n",
    "\n",
    "model2 = LinearRegression()\n",
    "model2.fit(X2_train, y2_train)\n",
    "\n",
    "model2_predictions = model2.predict(X2_valid)\n",
    "model2_mse = mean_squared_error(y2_valid, model2_predictions)\n",
    "model2_rmse = model2_mse**0.5\n",
    "\n",
    "mean2_prediction, mean2_mse, mean2_rmse = average_comp(y2)\n",
    "print_results(model2_rmse, mean2_rmse, model2_mse, mean2_mse)\n",
    "print()\n",
    "print('Average Predicted Reserves:', model2_predictions.mean())"
   ]
  },
  {
   "cell_type": "markdown",
   "metadata": {},
   "source": [
    "#### Decision Tree Regressor"
   ]
  },
  {
   "cell_type": "code",
   "execution_count": 17,
   "metadata": {},
   "outputs": [],
   "source": [
    "# Tune the hyperparameters of the Decision Tree first\n",
    "\n",
    "def decision_tree_tuner(X_train, y_train, X_valid, y_valid, range_low, range_high):\n",
    "    best_tree_result = 0\n",
    "    best_tree_depth = 0\n",
    "    \n",
    "    for i in range(range_low, range_high):\n",
    "        tree = DecisionTreeRegressor(random_state=random_state, max_depth=i)\n",
    "        tree.fit(X_train, y_train)\n",
    "        score = tree.score(X_valid, y_valid)\n",
    "        print(i, 'max depth accuracy:', f'{score:.1%}')\n",
    "        if score > best_tree_result:\n",
    "            best_tree_result = score\n",
    "            best_tree_depth = i\n",
    "            \n",
    "    print(\"Accuracy of the best model:\", f'{best_tree_result:.1%}')\n",
    "    print(\"Depth of the best model:\", best_tree_depth)\n",
    "    \n",
    "    return best_tree_depth"
   ]
  },
  {
   "cell_type": "code",
   "execution_count": 18,
   "metadata": {},
   "outputs": [
    {
     "name": "stdout",
     "output_type": "stream",
     "text": [
      "1 max depth accuracy: 17.1%\n",
      "2 max depth accuracy: 22.0%\n",
      "3 max depth accuracy: 25.0%\n",
      "4 max depth accuracy: 26.8%\n",
      "5 max depth accuracy: 28.1%\n",
      "6 max depth accuracy: 28.6%\n",
      "7 max depth accuracy: 29.3%\n",
      "8 max depth accuracy: 30.6%\n",
      "9 max depth accuracy: 32.0%\n",
      "10 max depth accuracy: 33.5%\n",
      "Accuracy of the best model: 33.5%\n",
      "Depth of the best model: 10\n"
     ]
    }
   ],
   "source": [
    "tree0_best_depth = decision_tree_tuner(X0_train, y0_train, X0_valid, y0_valid, 1, 11)"
   ]
  },
  {
   "cell_type": "code",
   "execution_count": 19,
   "metadata": {},
   "outputs": [
    {
     "name": "stdout",
     "output_type": "stream",
     "text": [
      "Linear Regression RMSE: 36.13836012210208\n",
      "Target Average RMSE: 44.2884696928441\n",
      "RMSE Ratio: 0.8159767174782543\n",
      "\n",
      "Linear Regression MSE: 1305.981072314738\n",
      "Target Average MSE: 1961.4685477339704\n",
      "MSE Ratio: 0.6658180034665869\n",
      "\n",
      "Average Predicted Reserves: 92.37451241991045\n"
     ]
    }
   ],
   "source": [
    "tree0 = DecisionTreeRegressor(random_state=random_state, max_depth=tree0_best_depth)\n",
    "tree0.fit(X0_train, y0_train)\n",
    "\n",
    "tree0_predictions = tree0.predict(X0_valid)\n",
    "tree0_mse = mean_squared_error(y0_valid, tree0_predictions)\n",
    "tree0_rmse = tree0_mse**0.5\n",
    "\n",
    "print_results(tree0_rmse, mean0_rmse, tree0_mse, mean0_mse)\n",
    "print()\n",
    "print('Average Predicted Reserves:', tree0_predictions.mean())"
   ]
  },
  {
   "cell_type": "code",
   "execution_count": 20,
   "metadata": {},
   "outputs": [
    {
     "name": "stdout",
     "output_type": "stream",
     "text": [
      "1 max depth accuracy: 77.1%\n",
      "2 max depth accuracy: 94.2%\n",
      "3 max depth accuracy: 99.9%\n",
      "4 max depth accuracy: 100.0%\n",
      "5 max depth accuracy: 100.0%\n",
      "6 max depth accuracy: 100.0%\n",
      "7 max depth accuracy: 100.0%\n",
      "8 max depth accuracy: 100.0%\n",
      "9 max depth accuracy: 100.0%\n",
      "10 max depth accuracy: 100.0%\n",
      "Accuracy of the best model: 100.0%\n",
      "Depth of the best model: 10\n"
     ]
    }
   ],
   "source": [
    "tree1_best_depth = decision_tree_tuner(X1_train, y1_train, X1_valid, y1_valid, 1, 11)"
   ]
  },
  {
   "cell_type": "code",
   "execution_count": 21,
   "metadata": {},
   "outputs": [
    {
     "name": "stdout",
     "output_type": "stream",
     "text": [
      "Linear Regression RMSE: 0.6329128562659224\n",
      "Target Average RMSE: 45.94419317228633\n",
      "RMSE Ratio: 0.013775687689030902\n",
      "\n",
      "Linear Regression MSE: 0.40057868362668814\n",
      "Target Average MSE: 2110.8688862523622\n",
      "MSE Ratio: 0.0001897695713057175\n",
      "\n",
      "Average Predicted Reserves: 68.74340205314405\n"
     ]
    }
   ],
   "source": [
    "tree1 = DecisionTreeRegressor(random_state=random_state, max_depth=tree1_best_depth)\n",
    "tree1.fit(X1_train, y1_train)\n",
    "\n",
    "tree1_predictions = tree1.predict(X1_valid)\n",
    "tree1_mse = mean_squared_error(y1_valid, tree1_predictions)\n",
    "tree1_rmse = tree1_mse**0.5\n",
    "\n",
    "print_results(tree1_rmse, mean1_rmse, tree1_mse, mean1_mse)\n",
    "print()\n",
    "print('Average Predicted Reserves:', tree1_predictions.mean())"
   ]
  },
  {
   "cell_type": "code",
   "execution_count": 22,
   "metadata": {},
   "outputs": [
    {
     "name": "stdout",
     "output_type": "stream",
     "text": [
      "1 max depth accuracy: 14.2%\n",
      "2 max depth accuracy: 18.8%\n",
      "3 max depth accuracy: 20.6%\n",
      "4 max depth accuracy: 22.6%\n",
      "5 max depth accuracy: 24.9%\n",
      "6 max depth accuracy: 27.8%\n",
      "7 max depth accuracy: 29.4%\n",
      "8 max depth accuracy: 30.4%\n",
      "9 max depth accuracy: 31.5%\n",
      "10 max depth accuracy: 33.2%\n",
      "Accuracy of the best model: 33.2%\n",
      "Depth of the best model: 10\n"
     ]
    }
   ],
   "source": [
    "tree2_best_depth = decision_tree_tuner(X2_train, y2_train, X2_valid, y2_valid, 1, 11)"
   ]
  },
  {
   "cell_type": "code",
   "execution_count": 23,
   "metadata": {},
   "outputs": [
    {
     "name": "stdout",
     "output_type": "stream",
     "text": [
      "Linear Regression RMSE: 36.60730796950722\n",
      "Target Average RMSE: 44.74969731878746\n",
      "RMSE Ratio: 0.8180459346735784\n",
      "\n",
      "Linear Regression MSE: 1340.0949967743468\n",
      "Target Average MSE: 2002.5354101230935\n",
      "MSE Ratio: 0.6691991512359687\n",
      "\n",
      "Average Predicted Reserves: 95.05136259499263\n"
     ]
    }
   ],
   "source": [
    "tree2 = DecisionTreeRegressor(random_state=random_state, max_depth=tree2_best_depth)\n",
    "tree2.fit(X2_train, y2_train)\n",
    "\n",
    "tree2_predictions = tree2.predict(X2_valid)\n",
    "tree2_mse = mean_squared_error(y2_valid, tree2_predictions)\n",
    "tree2_rmse = tree2_mse**0.5\n",
    "\n",
    "print_results(tree2_rmse, mean2_rmse, tree2_mse, mean2_mse)\n",
    "print()\n",
    "print('Average Predicted Reserves:', tree2_predictions.mean())"
   ]
  },
  {
   "cell_type": "markdown",
   "metadata": {},
   "source": [
    "#### Random Forest Regressor"
   ]
  },
  {
   "cell_type": "code",
   "execution_count": 24,
   "metadata": {},
   "outputs": [],
   "source": [
    "# Iterative loop to find ideal n_estimators and max_depth\n",
    "\n",
    "def random_forest_tuner(X_train, y_train, X_valid, y_valid, range_low, range_high):\n",
    "    best_result = 0\n",
    "    best_est = 0\n",
    "    best_depth = 0\n",
    "    \n",
    "    for i in range(range_low, range_high):\n",
    "        for n in range(range_low, range_high):\n",
    "            model = RandomForestRegressor(random_state=random_state, n_estimators=i, max_depth=n)\n",
    "            model.fit(X_train, y_train)\n",
    "            score = model.score(X_valid, y_valid)\n",
    "            if score > best_result:\n",
    "                best_result = score\n",
    "                best_est = i\n",
    "                best_depth = n\n",
    "                \n",
    "    print(\"Accuracy of the best model:\", f'{best_result:.1%}')\n",
    "    print(\"Estimators in the best model:\", best_est)\n",
    "    print(\"Depth of the best model:\", best_depth)\n",
    "    \n",
    "    return best_est, best_depth"
   ]
  },
  {
   "cell_type": "code",
   "execution_count": 25,
   "metadata": {},
   "outputs": [
    {
     "name": "stdout",
     "output_type": "stream",
     "text": [
      "Accuracy of the best model: 35.4%\n",
      "Estimators in the best model: 10\n",
      "Depth of the best model: 10\n"
     ]
    }
   ],
   "source": [
    "forest0_best_est, forest0_best_depth = random_forest_tuner(X0_train, y0_train, X0_valid, y0_valid, 1, 11)"
   ]
  },
  {
   "cell_type": "code",
   "execution_count": 26,
   "metadata": {},
   "outputs": [
    {
     "name": "stdout",
     "output_type": "stream",
     "text": [
      "Linear Regression RMSE: 35.62277620752811\n",
      "Target Average RMSE: 44.2884696928441\n",
      "RMSE Ratio: 0.8043352243729445\n",
      "\n",
      "Linear Regression MSE: 1268.982184731631\n",
      "Target Average MSE: 1961.4685477339704\n",
      "MSE Ratio: 0.646955153167075\n",
      "\n",
      "Average Predicted Reserves: 92.38843314136697\n"
     ]
    }
   ],
   "source": [
    "forest0 = RandomForestRegressor(random_state=random_state, max_depth=forest0_best_depth, n_estimators=forest0_best_est)\n",
    "forest0.fit(X0_train, y0_train)\n",
    "\n",
    "forest0_predictions = forest0.predict(X0_valid)\n",
    "forest0_mse = mean_squared_error(y0_valid, forest0_predictions)\n",
    "forest0_rmse = forest0_mse**0.5\n",
    "\n",
    "print_results(forest0_rmse, mean0_rmse, forest0_mse, mean0_mse)\n",
    "print()\n",
    "print('Average Predicted Reserves:', forest0_predictions.mean())"
   ]
  },
  {
   "cell_type": "code",
   "execution_count": 27,
   "metadata": {},
   "outputs": [
    {
     "name": "stdout",
     "output_type": "stream",
     "text": [
      "Accuracy of the best model: 100.0%\n",
      "Estimators in the best model: 10\n",
      "Depth of the best model: 10\n"
     ]
    }
   ],
   "source": [
    "forest1_best_est, forest1_best_depth = random_forest_tuner(X1_train, y1_train, X1_test, y1_test, 1, 11)"
   ]
  },
  {
   "cell_type": "code",
   "execution_count": 28,
   "metadata": {},
   "outputs": [
    {
     "name": "stdout",
     "output_type": "stream",
     "text": [
      "Linear Regression RMSE: 0.6122113628992384\n",
      "Target Average RMSE: 45.94419317228633\n",
      "RMSE Ratio: 0.013325108585616125\n",
      "\n",
      "Linear Regression MSE: 0.374802752862943\n",
      "Target Average MSE: 2110.8688862523622\n",
      "MSE Ratio: 0.0001775585188184606\n",
      "\n",
      "Average Predicted Reserves: 68.74348790278879\n"
     ]
    }
   ],
   "source": [
    "forest1 = RandomForestRegressor(random_state=random_state, max_depth=forest1_best_depth, n_estimators=forest1_best_est)\n",
    "forest1.fit(X1_train, y1_train)\n",
    "\n",
    "forest1_predictions = forest1.predict(X1_valid)\n",
    "forest1_mse = mean_squared_error(y1_valid, forest1_predictions)\n",
    "forest1_rmse = forest1_mse**0.5\n",
    "\n",
    "print_results(forest1_rmse, mean1_rmse, forest1_mse, mean1_mse)\n",
    "print()\n",
    "print('Average Predicted Reserves:', forest1_predictions.mean())"
   ]
  },
  {
   "cell_type": "code",
   "execution_count": 29,
   "metadata": {},
   "outputs": [
    {
     "name": "stdout",
     "output_type": "stream",
     "text": [
      "Accuracy of the best model: 35.0%\n",
      "Estimators in the best model: 10\n",
      "Depth of the best model: 10\n"
     ]
    }
   ],
   "source": [
    "forest2_best_est, forest2_best_depth = random_forest_tuner(X2_train, y2_train, X2_valid, y2_valid, 1, 11)"
   ]
  },
  {
   "cell_type": "code",
   "execution_count": 30,
   "metadata": {},
   "outputs": [
    {
     "name": "stdout",
     "output_type": "stream",
     "text": [
      "Linear Regression RMSE: 36.113208935835544\n",
      "Target Average RMSE: 44.74969731878746\n",
      "RMSE Ratio: 0.807004540803318\n",
      "\n",
      "Linear Regression MSE: 1304.1638596433122\n",
      "Target Average MSE: 2002.5354101230935\n",
      "MSE Ratio: 0.6512563288771742\n",
      "\n",
      "Average Predicted Reserves: 95.08508797293898\n"
     ]
    }
   ],
   "source": [
    "forest2 = RandomForestRegressor(random_state=random_state, max_depth=forest2_best_depth, n_estimators=forest2_best_est)\n",
    "forest2.fit(X2_train, y2_train)\n",
    "\n",
    "forest2_predictions = forest2.predict(X2_valid)\n",
    "forest2_mse = mean_squared_error(y2_valid, forest2_predictions)\n",
    "forest2_rmse = forest2_mse**0.5\n",
    "\n",
    "print_results(forest2_rmse, mean2_rmse, forest2_mse, mean2_mse)\n",
    "print()\n",
    "print('Average Predicted Reserves:', forest2_predictions.mean())"
   ]
  },
  {
   "cell_type": "markdown",
   "metadata": {},
   "source": [
    "#### Model Results"
   ]
  },
  {
   "cell_type": "code",
   "execution_count": 31,
   "metadata": {},
   "outputs": [
    {
     "data": {
      "text/html": [
       "<div>\n",
       "<style scoped>\n",
       "    .dataframe tbody tr th:only-of-type {\n",
       "        vertical-align: middle;\n",
       "    }\n",
       "\n",
       "    .dataframe tbody tr th {\n",
       "        vertical-align: top;\n",
       "    }\n",
       "\n",
       "    .dataframe thead th {\n",
       "        text-align: right;\n",
       "    }\n",
       "</style>\n",
       "<table border=\"1\" class=\"dataframe\">\n",
       "  <thead>\n",
       "    <tr style=\"text-align: right;\">\n",
       "      <th></th>\n",
       "      <th>Mean MSE</th>\n",
       "      <th>Linear Regression MSE</th>\n",
       "      <th>Decsion Tree MSE</th>\n",
       "      <th>Random Forest MSE</th>\n",
       "    </tr>\n",
       "  </thead>\n",
       "  <tbody>\n",
       "    <tr>\n",
       "      <th>0</th>\n",
       "      <td>1961.468548</td>\n",
       "      <td>1422.675704</td>\n",
       "      <td>1305.981072</td>\n",
       "      <td>1268.982185</td>\n",
       "    </tr>\n",
       "    <tr>\n",
       "      <th>1</th>\n",
       "      <td>2110.868886</td>\n",
       "      <td>0.787550</td>\n",
       "      <td>0.400579</td>\n",
       "      <td>0.374803</td>\n",
       "    </tr>\n",
       "    <tr>\n",
       "      <th>2</th>\n",
       "      <td>2002.535410</td>\n",
       "      <td>1599.241835</td>\n",
       "      <td>1340.094997</td>\n",
       "      <td>1304.163860</td>\n",
       "    </tr>\n",
       "  </tbody>\n",
       "</table>\n",
       "</div>"
      ],
      "text/plain": [
       "      Mean MSE  Linear Regression MSE  Decsion Tree MSE  Random Forest MSE\n",
       "0  1961.468548            1422.675704       1305.981072        1268.982185\n",
       "1  2110.868886               0.787550          0.400579           0.374803\n",
       "2  2002.535410            1599.241835       1340.094997        1304.163860"
      ]
     },
     "execution_count": 31,
     "metadata": {},
     "output_type": "execute_result"
    }
   ],
   "source": [
    "# Comparing Mean Squared Error\n",
    "\n",
    "mean_mse = [mean0_mse, mean1_mse, mean2_mse]\n",
    "lin_reg_mse = [model0_mse, model1_mse, model2_mse]\n",
    "dec_tre_mse = [tree0_mse, tree1_mse, tree2_mse]\n",
    "ran_for_mse = [forest0_mse, forest1_mse, forest2_mse]\n",
    "\n",
    "mse_data = {\n",
    "    'Mean MSE':mean_mse,\n",
    "    'Linear Regression MSE':lin_reg_mse,\n",
    "    'Decsion Tree MSE':dec_tre_mse,\n",
    "    'Random Forest MSE':ran_for_mse\n",
    "}\n",
    "\n",
    "mse_df = pd.DataFrame(data=mse_data)\n",
    "mse_df"
   ]
  },
  {
   "cell_type": "code",
   "execution_count": 32,
   "metadata": {},
   "outputs": [
    {
     "data": {
      "text/html": [
       "<div>\n",
       "<style scoped>\n",
       "    .dataframe tbody tr th:only-of-type {\n",
       "        vertical-align: middle;\n",
       "    }\n",
       "\n",
       "    .dataframe tbody tr th {\n",
       "        vertical-align: top;\n",
       "    }\n",
       "\n",
       "    .dataframe thead th {\n",
       "        text-align: right;\n",
       "    }\n",
       "</style>\n",
       "<table border=\"1\" class=\"dataframe\">\n",
       "  <thead>\n",
       "    <tr style=\"text-align: right;\">\n",
       "      <th></th>\n",
       "      <th>Linear Regression</th>\n",
       "      <th>Decision Tree</th>\n",
       "      <th>Random Forest</th>\n",
       "    </tr>\n",
       "  </thead>\n",
       "  <tbody>\n",
       "    <tr>\n",
       "      <th>0</th>\n",
       "      <td>538.792843</td>\n",
       "      <td>655.487475</td>\n",
       "      <td>692.486363</td>\n",
       "    </tr>\n",
       "    <tr>\n",
       "      <th>1</th>\n",
       "      <td>2110.081336</td>\n",
       "      <td>2110.468308</td>\n",
       "      <td>2110.494083</td>\n",
       "    </tr>\n",
       "    <tr>\n",
       "      <th>2</th>\n",
       "      <td>403.293575</td>\n",
       "      <td>662.440413</td>\n",
       "      <td>698.371550</td>\n",
       "    </tr>\n",
       "  </tbody>\n",
       "</table>\n",
       "</div>"
      ],
      "text/plain": [
       "   Linear Regression  Decision Tree  Random Forest\n",
       "0         538.792843     655.487475     692.486363\n",
       "1        2110.081336    2110.468308    2110.494083\n",
       "2         403.293575     662.440413     698.371550"
      ]
     },
     "execution_count": 32,
     "metadata": {},
     "output_type": "execute_result"
    }
   ],
   "source": [
    "# Compare the deltas for RMSE (greater positive numbers are better, lower MSE vs. baseline comp)\n",
    "\n",
    "mse_delta_df = pd.DataFrame()\n",
    "mse_delta_df['Linear Regression'] = mse_df['Mean MSE'] - mse_df['Linear Regression MSE']\n",
    "mse_delta_df['Decision Tree'] = mse_df['Mean MSE'] - mse_df['Decsion Tree MSE']\n",
    "mse_delta_df['Random Forest'] = mse_df['Mean MSE'] - mse_df['Random Forest MSE']\n",
    "mse_delta_df"
   ]
  },
  {
   "cell_type": "markdown",
   "metadata": {},
   "source": [
    "**MSE Observations**\n",
    "- Looks like the models performed very similarly, with the tree models outperforming linear regression in region 2\n",
    "- Linear regression was slightly worse for region 0 than the tree models\n",
    "- All of the models had near perfect prediction of region 1, which makes sense given the product distribution is more uniform"
   ]
  },
  {
   "cell_type": "code",
   "execution_count": 33,
   "metadata": {},
   "outputs": [
    {
     "data": {
      "text/html": [
       "<div>\n",
       "<style scoped>\n",
       "    .dataframe tbody tr th:only-of-type {\n",
       "        vertical-align: middle;\n",
       "    }\n",
       "\n",
       "    .dataframe tbody tr th {\n",
       "        vertical-align: top;\n",
       "    }\n",
       "\n",
       "    .dataframe thead th {\n",
       "        text-align: right;\n",
       "    }\n",
       "</style>\n",
       "<table border=\"1\" class=\"dataframe\">\n",
       "  <thead>\n",
       "    <tr style=\"text-align: right;\">\n",
       "      <th></th>\n",
       "      <th>Mean RMSE</th>\n",
       "      <th>Linear Regression RMSE</th>\n",
       "      <th>Decsion Tree RMSE</th>\n",
       "      <th>Random Forest RMSE</th>\n",
       "    </tr>\n",
       "  </thead>\n",
       "  <tbody>\n",
       "    <tr>\n",
       "      <th>0</th>\n",
       "      <td>44.288470</td>\n",
       "      <td>37.718374</td>\n",
       "      <td>36.138360</td>\n",
       "      <td>35.622776</td>\n",
       "    </tr>\n",
       "    <tr>\n",
       "      <th>1</th>\n",
       "      <td>45.944193</td>\n",
       "      <td>0.887440</td>\n",
       "      <td>0.632913</td>\n",
       "      <td>0.612211</td>\n",
       "    </tr>\n",
       "    <tr>\n",
       "      <th>2</th>\n",
       "      <td>44.749697</td>\n",
       "      <td>39.990522</td>\n",
       "      <td>36.607308</td>\n",
       "      <td>36.113209</td>\n",
       "    </tr>\n",
       "  </tbody>\n",
       "</table>\n",
       "</div>"
      ],
      "text/plain": [
       "   Mean RMSE  Linear Regression RMSE  Decsion Tree RMSE  Random Forest RMSE\n",
       "0  44.288470               37.718374          36.138360           35.622776\n",
       "1  45.944193                0.887440           0.632913            0.612211\n",
       "2  44.749697               39.990522          36.607308           36.113209"
      ]
     },
     "execution_count": 33,
     "metadata": {},
     "output_type": "execute_result"
    }
   ],
   "source": [
    "# Comparing Root of Mean Squared Error\n",
    "\n",
    "mean_rmse = [mean0_rmse, mean1_rmse, mean2_rmse]\n",
    "lin_reg_rmse = [model0_rmse, model1_rmse, model2_rmse]\n",
    "dec_tre_rmse = [tree0_rmse, tree1_rmse, tree2_rmse]\n",
    "ran_for_rmse = [forest0_rmse, forest1_rmse, forest2_rmse]\n",
    "\n",
    "rmse_data = {\n",
    "    'Mean RMSE':mean_rmse,\n",
    "    'Linear Regression RMSE':lin_reg_rmse,\n",
    "    'Decsion Tree RMSE':dec_tre_rmse,\n",
    "    'Random Forest RMSE':ran_for_rmse\n",
    "}\n",
    "\n",
    "rmse_df = pd.DataFrame(data=rmse_data)\n",
    "rmse_df"
   ]
  },
  {
   "cell_type": "code",
   "execution_count": 34,
   "metadata": {},
   "outputs": [
    {
     "data": {
      "text/html": [
       "<div>\n",
       "<style scoped>\n",
       "    .dataframe tbody tr th:only-of-type {\n",
       "        vertical-align: middle;\n",
       "    }\n",
       "\n",
       "    .dataframe tbody tr th {\n",
       "        vertical-align: top;\n",
       "    }\n",
       "\n",
       "    .dataframe thead th {\n",
       "        text-align: right;\n",
       "    }\n",
       "</style>\n",
       "<table border=\"1\" class=\"dataframe\">\n",
       "  <thead>\n",
       "    <tr style=\"text-align: right;\">\n",
       "      <th></th>\n",
       "      <th>Linear Regression</th>\n",
       "      <th>Decision Tree</th>\n",
       "      <th>Random Forest</th>\n",
       "    </tr>\n",
       "  </thead>\n",
       "  <tbody>\n",
       "    <tr>\n",
       "      <th>0</th>\n",
       "      <td>6.570096</td>\n",
       "      <td>8.150110</td>\n",
       "      <td>8.665693</td>\n",
       "    </tr>\n",
       "    <tr>\n",
       "      <th>1</th>\n",
       "      <td>45.056753</td>\n",
       "      <td>45.311280</td>\n",
       "      <td>45.331982</td>\n",
       "    </tr>\n",
       "    <tr>\n",
       "      <th>2</th>\n",
       "      <td>4.759176</td>\n",
       "      <td>8.142389</td>\n",
       "      <td>8.636488</td>\n",
       "    </tr>\n",
       "  </tbody>\n",
       "</table>\n",
       "</div>"
      ],
      "text/plain": [
       "   Linear Regression  Decision Tree  Random Forest\n",
       "0           6.570096       8.150110       8.665693\n",
       "1          45.056753      45.311280      45.331982\n",
       "2           4.759176       8.142389       8.636488"
      ]
     },
     "execution_count": 34,
     "metadata": {},
     "output_type": "execute_result"
    }
   ],
   "source": [
    "# Compare the deltas for RMSE (greater positive numbers are better, lower RMSE vs. baseline comp)\n",
    "\n",
    "rmse_delta_df = pd.DataFrame()\n",
    "rmse_delta_df['Linear Regression'] = rmse_df['Mean RMSE'] - rmse_df['Linear Regression RMSE']\n",
    "rmse_delta_df['Decision Tree'] = rmse_df['Mean RMSE'] - rmse_df['Decsion Tree RMSE']\n",
    "rmse_delta_df['Random Forest'] = rmse_df['Mean RMSE'] - rmse_df['Random Forest RMSE']\n",
    "rmse_delta_df"
   ]
  },
  {
   "cell_type": "markdown",
   "metadata": {},
   "source": [
    "**RMSE Observations:**\n",
    "- Using RMSE makes the comparisons a bit easier\n",
    "- Region 2 is where the tree models outperformed most, with Random Forest having the best results\n",
    "- Region 1 had surprisingly accurate results from all 3 models "
   ]
  },
  {
   "cell_type": "code",
   "execution_count": 35,
   "metadata": {},
   "outputs": [
    {
     "name": "stdout",
     "output_type": "stream",
     "text": [
      "   Linear Regression  Decision Tree  Random Forest\n",
      "0          92.386692      68.742840      95.101085\n",
      "1          92.374512      68.743402      95.051363\n",
      "2          92.388433      68.743488      95.085088\n",
      "Actual Means:\n",
      "[92.23858178903133, 68.74404069717235, 95.13692968968934]\n"
     ]
    }
   ],
   "source": [
    "# Looking at the mean predictions for product versus actual \n",
    "\n",
    "linear_regression_avg = [model0_predictions.mean(), model1_predictions.mean(), model2_predictions.mean()]\n",
    "decision_tree_avg = [tree0_predictions.mean(), tree1_predictions.mean(), tree2_predictions.mean()]\n",
    "random_forest_avg = [forest0_predictions.mean(), forest1_predictions.mean(), forest2_predictions.mean()]\n",
    "\n",
    "avg_df = pd.DataFrame(data=[linear_regression_avg,decision_tree_avg,random_forest_avg], columns=rmse_delta_df.columns)\n",
    "\n",
    "print(avg_df)\n",
    "print('Actual Means:')\n",
    "print([y0_valid.mean(), y1_valid.mean(), y2_valid.mean()])"
   ]
  },
  {
   "cell_type": "markdown",
   "metadata": {},
   "source": [
    "### Profit Calculation\n",
    "- 3.1. Store all key values for calculations in separate variables.\n",
    "- 3.2. Calculate the volume of reserves sufficient for developing a new well without losses. Compare the obtained value with the average volume of reserves in each region.\n",
    "- 3.3. Provide the findings about the preparation for profit calculation step."
   ]
  },
  {
   "cell_type": "code",
   "execution_count": 36,
   "metadata": {},
   "outputs": [
    {
     "name": "stdout",
     "output_type": "stream",
     "text": [
      "Reserves Needed to Breakeven (in Thousands of Barrels): 111.11111111111111\n"
     ]
    }
   ],
   "source": [
    "# 200 wells cost $100 million, $500K per well\n",
    "dev_cost = 100000000 / 200\n",
    "\n",
    "# Revenue per barrel is $4.50, data is in 1,000's of barrels  \n",
    "rev_k_bbl = 4500\n",
    "\n",
    "# $500K / $4.50 = 111,111 barrels of reserves needed to breakeven on a well \n",
    "breakeven_k_bbl = dev_cost / rev_k_bbl\n",
    "\n",
    "print('Reserves Needed to Breakeven (in Thousands of Barrels):', breakeven_k_bbl)"
   ]
  },
  {
   "cell_type": "code",
   "execution_count": 37,
   "metadata": {},
   "outputs": [
    {
     "name": "stdout",
     "output_type": "stream",
     "text": [
      "\n",
      "Region 0 Average Reserves:  92.50000000000001 Thousand Barrels\n",
      "Region 0 Total Reserves:  9250.000000000002 Million Barrels\n",
      "\n",
      "Region 1 Average Reserves:  68.82500000000002 Thousand Barrels\n",
      "Region 1 Total Reserves:  6882.500000000002 Million Barrels\n",
      "\n",
      "Region 2 Average Reserves:  95.00000000000004 Thousand Barrels\n",
      "Region 2 Total Reserves:  9500.000000000004 Million Barrels\n"
     ]
    }
   ],
   "source": [
    "# Average volume of reserves in each region:\n",
    "\n",
    "dfs = ['df0', 'df1', 'df2']\n",
    "\n",
    "for df in dfs:\n",
    "    print()\n",
    "    print(f'Region {df[-1]} Average Reserves: ', eval(df)['product'].mean(), 'Thousand Barrels') \n",
    "    print(f'Region {df[-1]} Total Reserves: ', eval(df)['product'].sum() / 1000, 'Million Barrels')     "
   ]
  },
  {
   "cell_type": "code",
   "execution_count": 38,
   "metadata": {},
   "outputs": [
    {
     "data": {
      "image/png": "[encoded data removed]",
      "text/plain": [
       "<Figure size 1080x360 with 1 Axes>"
      ]
     },
     "metadata": {
      "needs_background": "light"
     },
     "output_type": "display_data"
    }
   ],
   "source": [
    "# The black dotted line represents the breakeven reserves amount \n",
    "\n",
    "df0['product'].plot(kind='hist', color='r', alpha=0.8, bins=30, figsize=[15,5]) # Flat distribution, long tail \n",
    "df1['product'].plot(kind='hist', color='b', alpha=0.6, bins=30, figsize=[15,5]) # Distribution heavy on tails, more uniform\n",
    "df2['product'].plot(kind='hist', color='g', alpha=0.4, bins=30, figsize=[15,5]) # Flat distribution, long tail \n",
    "plt.axvline(111, color='black', linestyle='--', linewidth=2)\n",
    "plt.title('Reserves Distribution')\n",
    "plt.show()"
   ]
  },
  {
   "cell_type": "markdown",
   "metadata": {},
   "source": [
    "**Observations:**\n",
    "- The breakeven amount of reserves is above the average reserves in all three regions, meaning most wells are unprofitable\n",
    "- Region 1 seems to have the least amount of profitable wells\n",
    "    - However it seems to be the most predictable from the model results \n",
    "    - Will test it on the test set to see results \n",
    "- There's more than enough profitable wells (relative to a 200 well budget), if we are able to accurately ID the top 200 to develop we can be profitable in each region"
   ]
  },
  {
   "cell_type": "markdown",
   "metadata": {},
   "source": [
    "#### Profit Calculation Functions:"
   ]
  },
  {
   "cell_type": "markdown",
   "metadata": {},
   "source": [
    "Write a function to calculate profit from a set of selected oil wells and model predictions:\n",
    "\n",
    "- 4.1. Pick the wells with the highest values of predictions.\n",
    "- 4.2. Summarize the target volume of reserves in accordance with these predictions\n",
    "- 4.3. Provide findings: suggest a region for oil wells' development and justify the choice. Calculate the profit for the obtained volume of reserves."
   ]
  },
  {
   "cell_type": "code",
   "execution_count": 39,
   "metadata": {},
   "outputs": [],
   "source": [
    "# Random state for subsample iteration\n",
    "\n",
    "state = np.random.RandomState(12345)"
   ]
  },
  {
   "cell_type": "code",
   "execution_count": 40,
   "metadata": {},
   "outputs": [],
   "source": [
    "# Pick the best 200 wells in each region:\n",
    "\n",
    "# Function to rank wells by probability in descending order, then take the top X number of wells \n",
    "def profit(target, probabilities, count):\n",
    "    probs_sorted = probabilities.sort_values(ascending=False)\n",
    "    selected = target[probs_sorted.index][:count]\n",
    "    return rev_k_bbl * selected.sum() - dev_cost * count  \n",
    "\n",
    "# Bootstrapping 1000 wells in subsampels of 500, and choosing the top 200 from each \n",
    "#     Will do this with decision tree and random forest prediction sets in all 3 regions\n",
    "def bootstrap_revs(target, predictions):\n",
    "    predictions_df = pd.DataFrame(data=predictions, index=target.index, columns=['Predictions'])\n",
    "    values = []\n",
    "    for i in range(1000):\n",
    "        subsample_target = target.sample(n=500, replace=True, random_state=state)\n",
    "        subsample_predict = predictions_df.loc[subsample_target.index]\n",
    "        subsample_profit = profit(subsample_target, subsample_predict['Predictions'], 200)\n",
    "        values.append(subsample_profit)\n",
    "    values = pd.Series(values)\n",
    "    return values\n",
    "\n",
    "# Looking for revenues of less than the $100 million development cost\n",
    "def loss_ratio(values):\n",
    "    loss = values.where(values < 0).count()\n",
    "    loss_ratio = loss / len(values)\n",
    "    return loss_ratio, loss\n",
    "\n",
    "# Confidence Interval function:\n",
    "def confidence_interval(lower, upper, values):\n",
    "    lower_bound = values.quantile(lower)\n",
    "    upper_bound = values.quantile(upper)\n",
    "    return lower_bound, upper_bound"
   ]
  },
  {
   "cell_type": "markdown",
   "metadata": {},
   "source": [
    "#### Risk and Profit Calculation:"
   ]
  },
  {
   "cell_type": "markdown",
   "metadata": {},
   "source": [
    "Calculate risks and profit for each region:\n",
    "\n",
    "- 5.1. Use the bootstrapping technique with 1000 samples to find the distribution of profit.\n",
    "- 5.2. Find average profit, 95% confidence interval and risk of losses. Loss is negative profit, calculate it as a probability and then express as a percentage.\n",
    "- 5.3. Provide findings: suggest a region for development of oil wells and justify the choice."
   ]
  },
  {
   "cell_type": "markdown",
   "metadata": {},
   "source": [
    "**Linear Regression:**"
   ]
  },
  {
   "cell_type": "code",
   "execution_count": 41,
   "metadata": {},
   "outputs": [
    {
     "name": "stdout",
     "output_type": "stream",
     "text": [
      "Linear Regression, Region 0 Mean ($ Millions): 4.370929928711485\n",
      "Linear Regression, Region 0 95% CI Lower Bound: -0.8395767825496767\n",
      "Linear Regression, Region 0 95% CI Upper Bound: 9.239956215731635\n"
     ]
    }
   ],
   "source": [
    "# Linear Regression Revenues Region 0 \n",
    "\n",
    "model0_values = bootstrap_revs(y0_valid, model0_predictions)\n",
    "model0_lower, model0_upper = confidence_interval(0.025, 0.975, model0_values)\n",
    "print('Linear Regression, Region 0 Mean ($ Millions):', model0_values.mean() / 1000000)\n",
    "print('Linear Regression, Region 0 95% CI Lower Bound:', model0_lower / 1000000)\n",
    "print('Linear Regression, Region 0 95% CI Upper Bound:', model0_upper / 1000000)"
   ]
  },
  {
   "cell_type": "code",
   "execution_count": 42,
   "metadata": {},
   "outputs": [
    {
     "name": "stdout",
     "output_type": "stream",
     "text": [
      "Region 0 Loss Ratio: 0.054\n",
      "Region 0 Samples with Losses: 54\n"
     ]
    }
   ],
   "source": [
    "# Linear Regression Losses Region 0 \n",
    "#     This region has higher losses than the 2.5% threshold\n",
    "\n",
    "y0_loss_ratio, y0_losses = loss_ratio(model0_values)\n",
    "print('Region 0 Loss Ratio:', y0_loss_ratio)\n",
    "print('Region 0 Samples with Losses:', y0_losses)"
   ]
  },
  {
   "cell_type": "code",
   "execution_count": 43,
   "metadata": {},
   "outputs": [
    {
     "name": "stdout",
     "output_type": "stream",
     "text": [
      "Linear Regression, Region 1 Mean ($ Millions): 4.958852807158779\n",
      "Linear Regression, Region 1 95% CI Lower Bound: 0.8569361525000961\n",
      "Linear Regression, Region 1 95% CI Upper Bound: 9.257909966990443\n"
     ]
    }
   ],
   "source": [
    "# Linear Regression Revenues Region 1\n",
    "#     The 95% confidence interval is within breakeven range (lower bound is above $100 million revenue and is profitable)\n",
    "\n",
    "model1_values = bootstrap_revs(y1_valid, model1_predictions)\n",
    "model1_lower, model1_upper = confidence_interval(0.025, 0.975, model1_values)\n",
    "print('Linear Regression, Region 1 Mean ($ Millions):', model1_values.mean() / 1000000)\n",
    "print('Linear Regression, Region 1 95% CI Lower Bound:', model1_lower / 1000000)\n",
    "print('Linear Regression, Region 1 95% CI Upper Bound:', model1_upper / 1000000)"
   ]
  },
  {
   "cell_type": "code",
   "execution_count": 44,
   "metadata": {},
   "outputs": [
    {
     "name": "stdout",
     "output_type": "stream",
     "text": [
      "Region 1 Loss Ratio: 0.007\n",
      "Region 1 Samples with Losses: 7\n"
     ]
    }
   ],
   "source": [
    "# Linear Regression Losses Region 1\n",
    "#     This region is under the loss threshold\n",
    "\n",
    "y1_loss_ratio, y1_losses = loss_ratio(model1_values)\n",
    "print('Region 1 Loss Ratio:', y1_loss_ratio)\n",
    "print('Region 1 Samples with Losses:', y1_losses)"
   ]
  },
  {
   "cell_type": "code",
   "execution_count": 45,
   "metadata": {},
   "outputs": [
    {
     "name": "stdout",
     "output_type": "stream",
     "text": [
      "Linear Regression, Region 2 Mean ($ Millions): 3.9643203752366722\n",
      "Linear Regression, Region 2 95% CI Lower Bound: -1.6270476605620185\n",
      "Linear Regression, Region 2 95% CI Upper Bound: 9.063014857608618\n"
     ]
    }
   ],
   "source": [
    "# Linear Regression Revenues Region 2\n",
    "\n",
    "model2_values = bootstrap_revs(y2_valid, model2_predictions)\n",
    "model2_lower, model2_upper = confidence_interval(0.025, 0.975, model2_values)\n",
    "print('Linear Regression, Region 2 Mean ($ Millions):', model2_values.mean() / 1000000)\n",
    "print('Linear Regression, Region 2 95% CI Lower Bound:', model2_lower / 1000000)\n",
    "print('Linear Regression, Region 2 95% CI Upper Bound:', model2_upper / 1000000)"
   ]
  },
  {
   "cell_type": "code",
   "execution_count": 46,
   "metadata": {},
   "outputs": [
    {
     "name": "stdout",
     "output_type": "stream",
     "text": [
      "Region 2 Loss Ratio: 0.071\n",
      "Region 2 Samples with Losses: 71\n"
     ]
    }
   ],
   "source": [
    "# Linear Regression Losses Region 2\n",
    "#     This region is also above the 2.5% loss threshold \n",
    "\n",
    "y2_loss_ratio, y2_losses = loss_ratio(model2_values)\n",
    "print('Region 2 Loss Ratio:', y2_loss_ratio)\n",
    "print('Region 2 Samples with Losses:', y2_losses)"
   ]
  },
  {
   "cell_type": "markdown",
   "metadata": {},
   "source": [
    "**Bootstrapping Results for Profit and Risk:**\n",
    "- Of all the regions, only region 1 is under the 2.5% loss threshold (out of the 1,000 subsamples of 500 wells with the top 200 per the model results chosen), less than 2.5% of them have losses\n",
    "- The 95% confidence interval is profitable (\\\\$101 - \\\\$109 million)\n",
    "- The average revenue is about the same for all three regions from running this bootstrapping exercise (\\\\$104 million)\n",
    "- While region 1 had less wells above the breakeven reserve amount, it was the most predictable with the model, meaning we have better odds of chosing profitable wells in this region"
   ]
  },
  {
   "cell_type": "markdown",
   "metadata": {},
   "source": [
    "#### Test Set with Selection Region\n",
    "- Using the Test Set with the selected region (1) "
   ]
  },
  {
   "cell_type": "code",
   "execution_count": 47,
   "metadata": {},
   "outputs": [
    {
     "name": "stdout",
     "output_type": "stream",
     "text": [
      "Linear Regression RMSE: 0.8933122318838601\n",
      "Target Average RMSE: 45.94419317228633\n",
      "RMSE Ratio: 0.019443419727364124\n",
      "\n",
      "Linear Regression MSE: 0.7980067436333234\n",
      "Target Average MSE: 2110.8688862523622\n",
      "MSE Ratio: 0.00037804657069445225\n",
      "\n",
      "Average Predicted Reserves: 68.91105409427654\n"
     ]
    }
   ],
   "source": [
    "test_predictions = model1.predict(X1_test)\n",
    "test_mse = mean_squared_error(y1_test, test_predictions)\n",
    "test_rmse = test_mse**0.5\n",
    "\n",
    "print_results(test_rmse, mean1_rmse, test_mse, mean1_mse)\n",
    "print()\n",
    "print('Average Predicted Reserves:', test_predictions.mean())"
   ]
  },
  {
   "cell_type": "code",
   "execution_count": 48,
   "metadata": {},
   "outputs": [
    {
     "name": "stdout",
     "output_type": "stream",
     "text": [
      "Linear Regression, Region 1 Mean ($ Millions): 4.595106316904298\n",
      "Linear Regression, Region 1 95% CI Lower Bound: 0.752082783767995\n",
      "Linear Regression, Region 1 95% CI Upper Bound: 8.780852796690468\n"
     ]
    }
   ],
   "source": [
    "# Linear Regression Revenues Region 1 - Test Set\n",
    "#     Results are similar to the validation set\n",
    "#     95% confidence interval sits in profitable territory\n",
    "\n",
    "test_values = bootstrap_revs(y1_test, test_predictions)\n",
    "test_lower, test_upper = confidence_interval(0.025, 0.975, test_values)\n",
    "print('Linear Regression, Region 1 Mean ($ Millions):', test_values.mean() / 1000000)\n",
    "print('Linear Regression, Region 1 95% CI Lower Bound:', test_lower / 1000000)\n",
    "print('Linear Regression, Region 1 95% CI Upper Bound:', test_upper / 1000000)"
   ]
  },
  {
   "cell_type": "markdown",
   "metadata": {},
   "source": [
    "### Conclusion\n",
    "- We choose Region 1 for development, as our model has the best prediction capabilities in that region, meaning we have a higher chance of selecting profitable wells \n",
    "- Its distribution of features and product was unique relative to the other 2 regions, so it was either going to be the best or worse region \n",
    "- The test set validated the results, showing that the model chose a profitable selection of wells"
   ]
  }
 ],
 "metadata": {
  "kernelspec": {
   "display_name": "Python 3 (ipykernel)",
   "language": "python",
   "name": "python3"
  },
  "language_info": {
   "codemirror_mode": {
    "name": "ipython",
    "version": 3
   },
   "file_extension": ".py",
   "mimetype": "text/x-python",
   "name": "python",
   "nbconvert_exporter": "python",
   "pygments_lexer": "ipython3",
   "version": "3.11.1"
  },
  "toc": {
   "base_numbering": 1,
   "nav_menu": {},
   "number_sections": true,
   "sideBar": true,
   "skip_h1_title": true,
   "title_cell": "Table of Contents",
   "title_sidebar": "Contents",
   "toc_cell": false,
   "toc_position": {},
   "toc_section_display": true,
   "toc_window_display": false
  }
 },
 "nbformat": 4,
 "nbformat_minor": 2
}
